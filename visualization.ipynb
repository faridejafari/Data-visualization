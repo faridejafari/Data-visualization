data = pd.read_csv("t20-world-cup-22.csv")
